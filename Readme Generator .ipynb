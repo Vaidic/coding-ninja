{
 "cells": [
  {
   "cell_type": "code",
   "execution_count": null,
   "metadata": {},
   "outputs": [],
   "source": [
    "import os\n",
    "import json \n",
    "import datetime\n",
    "from django.utils.encoding import smart_str, smart_text\n",
    "import codecs"
   ]
  },
  {
   "cell_type": "code",
   "execution_count": null,
   "metadata": {},
   "outputs": [],
   "source": [
    "dirs=list(os.walk('./exercism/python/'))[0][1]\n",
    "# print(dirs)"
   ]
  },
  {
   "cell_type": "code",
   "execution_count": null,
   "metadata": {
    "scrolled": true
   },
   "outputs": [],
   "source": [
    "ans=[]\n",
    "for d in dirs: \n",
    "    if d.startswith('.'): \n",
    "        continue\n",
    "    with open('./exercism/python/{}/.solution.json'.format(d))  as file :\n",
    "        j=json.load(file)\n",
    "        idn=j['id']\n",
    "        url = 'https://exercism.io/tracks/python/exercises/{}/solutions/{}'.format(d,idn)\n",
    "        print('- [x] [{}]({})'.format(d,url))"
   ]
  },
  {
   "cell_type": "markdown",
   "metadata": {},
   "source": [
    "## For website"
   ]
  },
  {
   "cell_type": "code",
   "execution_count": 1,
   "metadata": {},
   "outputs": [],
   "source": [
    "import os\n",
    "import json \n",
    "import datetime\n",
    "from django.utils.encoding import smart_str, smart_text\n",
    "import codecs"
   ]
  },
  {
   "cell_type": "code",
   "execution_count": 2,
   "metadata": {},
   "outputs": [],
   "source": [
    "template='''+++\n",
    "title = \"{}\"\n",
    "date =  {}\n",
    "draft = false\n",
    "type = \"docs\"\n",
    "toc = true\n",
    "linktitle = \"Problem: {}\"\n",
    "[menu.exercism-python-track]\n",
    "  parent = \"Overview\"\n",
    "  weight = {}\n",
    "+++\n",
    "\n",
    "#{}\n",
    "\n",
    "## Solution\n",
    "> [The solution can also be found at exercism.io]({})\n",
    "\n",
    "```python\n",
    "{}\n",
    "```\n",
    "\n",
    "## Test Cases\n",
    "The test cases for correctness of logic are as belows - \n",
    "\n",
    "```python\n",
    "{}\n",
    "```\n",
    "'''"
   ]
  },
  {
   "cell_type": "code",
   "execution_count": 3,
   "metadata": {},
   "outputs": [],
   "source": [
    "readme_template='''+++\n",
    "title = \"Exercism.Io - Python Track\"\n",
    "date = 2019-01-04T00:00:00\n",
    "draft = false\n",
    "type = \"docs\"  # Do not modify.\n",
    "toc = true\n",
    "linktitle = \"Overview\"\n",
    "[menu.exercism-python-track]\n",
    "  name = \"Overview\"\n",
    "  weight = 1\n",
    "+++\n",
    "## Solutions to Exercismv2 Programming Questions\n",
    "> My solutions to [exercism.io](https://exercism.io) exercises\n",
    "\n",
    " |  | | |\n",
    ":---: | :---: | :---: | :---:\n",
    "[![CircleCI](https://circleci.com/gh/Vaidic/exercism-io-solutions.svg?style=shield)](https://circleci.com/gh/Vaidic/exercism-io-solutions) | [![GPLv3 license](https://img.shields.io/badge/License-GPLv3-blue.svg)](http://perso.crans.org/besson/LICENSE.html)|[![Author](https://img.shields.io/badge/author-vaidic-brightgreen.svg)](https://vaidicjoshi.in/) | [![Python](https://img.shields.io/pypi/pyversions/Django.svg)](https://pypi.org/) | [![HitCount](http://hits.dwyl.io/vaidic/exercism-io-solutions.svg)](http://hits.dwyl.io/vaidic/exercism-io-solutions)\n",
    "\n",
    "[![EPI](exercism-cover.jpg)](https://exercism.io/profiles/Vaidic)\n",
    "\n",
    "## [Python Track's Problems ](https://exercism.io/my/tracks/pyhton)\n",
    "{}\n",
    "'''"
   ]
  },
  {
   "cell_type": "code",
   "execution_count": null,
   "metadata": {},
   "outputs": [
    {
     "name": "stdout",
     "output_type": "stream",
     "text": [
      "Processing ...  acronym\n",
      "Processing ...  armstrong-numbers\n",
      "Processing ...  bank-account\n",
      "Processing ...  dnd-character\n",
      "Processing ...  gigasecond\n",
      "Processing ...  hello-world\n",
      "Processing ...  high-scores\n"
     ]
    }
   ],
   "source": [
    "target_dir='C:\\\\Users\\\\vaidicj\\\\Dropbox\\\\gitlab-projects\\\\vaidicjoshi-in-official\\\\content\\\\tutorial\\\\exercism-python-track\\\\'\n",
    "count=1\n",
    "for folder in list(os.walk('./exercism/python/'))[0][1]: \n",
    "    if folder.startswith('.'): \n",
    "        continue\n",
    "    print('Processing ... ', folder)\n",
    "    count+=1\n",
    "    directory='./exercism/python/{}/'.format(folder)\n",
    "    files=list(os.walk(directory))[0][2]\n",
    "    readme_file=directory+list(filter(lambda x: 'readme' in x.lower(),  files))[0]\n",
    "    test_file=directory+list(filter(lambda x: 'test.py' in x.lower(),  files))[0]\n",
    "    sol_file=directory+list(filter(lambda x: '.py' in x.lower() and 'test' not in x.lower(),  files))[0]\n",
    "    mod_time=datetime.datetime.fromtimestamp(os.path.getmtime(directory+'.solution.json')).isoformat()\n",
    "    title=(folder.replace('-',' ').title())\n",
    "    problem=folder\n",
    "    \n",
    "    url=''\n",
    "    problem_stmt=''\n",
    "    solu_stmt=''\n",
    "    test_stmt=''\n",
    "    \n",
    "    with open(directory+'.solution.json'.format(directory))  as file :\n",
    "        j=json.load(file)\n",
    "        idn=j['id']\n",
    "        url = 'https://exercism.io/tracks/python/exercises/{}/solutions/{}'.format(directory,idn)\n",
    "    \n",
    "    with open(readme_file,encoding='utf8') as f: \n",
    "        while True:\n",
    "            line=f.readline()\n",
    "            if 'Exception messages' in line :\n",
    "                break\n",
    "            problem_stmt+=line\n",
    "    \n",
    "    with open(sol_file,encoding='utf8') as f: \n",
    "        solu_stmt=''.join(f.readlines())\n",
    "    \n",
    "    with open(test_file,encoding='utf8') as f: \n",
    "        test_stmt=''.join(f.readlines())\n",
    "        \n",
    "    with open(target_dir+problem+'.md','w',encoding='utf8') as f:\n",
    "        f.writelines(template.format(title,mod_time, problem,count,problem_stmt,url,solu_stmt,test_stmt))\n",
    "print(\"Sucessfully Completed\")\n",
    "    "
   ]
  },
  {
   "cell_type": "code",
   "execution_count": null,
   "metadata": {},
   "outputs": [],
   "source": []
  }
 ],
 "metadata": {
  "kernelspec": {
   "display_name": "Python 3",
   "language": "python",
   "name": "python3"
  },
  "language_info": {
   "codemirror_mode": {
    "name": "ipython",
    "version": 3
   },
   "file_extension": ".py",
   "mimetype": "text/x-python",
   "name": "python",
   "nbconvert_exporter": "python",
   "pygments_lexer": "ipython3",
   "version": "3.6.5"
  }
 },
 "nbformat": 4,
 "nbformat_minor": 2
}
