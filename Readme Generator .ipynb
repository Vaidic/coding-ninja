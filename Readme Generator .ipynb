{
 "cells": [
  {
   "cell_type": "code",
   "execution_count": 104,
   "metadata": {},
   "outputs": [],
   "source": [
    "import os\n",
    "import json \n",
    "import datetime\n",
    "from django.utils.encoding import smart_str, smart_text\n",
    "import codecs"
   ]
  },
  {
   "cell_type": "code",
   "execution_count": 3,
   "metadata": {},
   "outputs": [
    {
     "name": "stdout",
     "output_type": "stream",
     "text": [
      "['.pytest_cache', 'acronym', 'armstrong-numbers', 'bank-account', 'dnd-character', 'gigasecond', 'hello-world', 'leap', 'pangram', 'protein-translation', 'rational-numbers', 'reverse-string', 'rna-transcription', 'robot-name', 'sgf-parsing', 'space-age', 'two-fer', 'yacht']\n"
     ]
    }
   ],
   "source": [
    "dirs=list(os.walk('./exercism/python/'))[0][1]\n",
    "# print(dirs)"
   ]
  },
  {
   "cell_type": "code",
   "execution_count": 107,
   "metadata": {
    "scrolled": true
   },
   "outputs": [
    {
     "name": "stdout",
     "output_type": "stream",
     "text": [
      "- [x] [acronym](https://exercism.io/tracks/python/exercises/acronym/solutions/50f123ee74fc409c8f3f106760302e70)\n",
      "- [x] [armstrong-numbers](https://exercism.io/tracks/python/exercises/armstrong-numbers/solutions/1e084a2a3238469ca00025927de3f922)\n",
      "- [x] [bank-account](https://exercism.io/tracks/python/exercises/bank-account/solutions/cc290a9eff7d4aeda9cad99ce86a1e78)\n",
      "- [x] [dnd-character](https://exercism.io/tracks/python/exercises/dnd-character/solutions/9e9455fdd6864699a63235c245c80f59)\n",
      "- [x] [gigasecond](https://exercism.io/tracks/python/exercises/gigasecond/solutions/aa6625c9c0ab42979efc293b4ad30498)\n",
      "- [x] [hello-world](https://exercism.io/tracks/python/exercises/hello-world/solutions/c2564fdeb656479f82b197e8fba170b8)\n",
      "- [x] [leap](https://exercism.io/tracks/python/exercises/leap/solutions/2bd80fd47d014042a561e5cc5681df83)\n",
      "- [x] [pangram](https://exercism.io/tracks/python/exercises/pangram/solutions/5b7267e29b904c568af01e3e327c4793)\n",
      "- [x] [protein-translation](https://exercism.io/tracks/python/exercises/protein-translation/solutions/cb4105c9f1f14937ba1ec050c37e391e)\n",
      "- [x] [rational-numbers](https://exercism.io/tracks/python/exercises/rational-numbers/solutions/1f143a769db447f2bc5d522752dac551)\n",
      "- [x] [reverse-string](https://exercism.io/tracks/python/exercises/reverse-string/solutions/76744b9313ea4ebf8e7c9d1d1211acf0)\n",
      "- [x] [rna-transcription](https://exercism.io/tracks/python/exercises/rna-transcription/solutions/5624c9d685734c16b9af4e48a992c74f)\n",
      "- [x] [robot-name](https://exercism.io/tracks/python/exercises/robot-name/solutions/179915be263a4efbb8292b56fe954ce8)\n",
      "- [x] [sgf-parsing](https://exercism.io/tracks/python/exercises/sgf-parsing/solutions/0df2f1c1c5bd42488b81adc78ef6abc7)\n",
      "- [x] [space-age](https://exercism.io/tracks/python/exercises/space-age/solutions/3c3a9d0a2c0042d69fa3024926773b9a)\n",
      "- [x] [two-fer](https://exercism.io/tracks/python/exercises/two-fer/solutions/8e707e099458405698815e77667b627b)\n",
      "- [x] [yacht](https://exercism.io/tracks/python/exercises/yacht/solutions/0c57c6f7ba8547199df48262ead062af)\n"
     ]
    }
   ],
   "source": [
    "ans=[]\n",
    "for d in dirs: \n",
    "    if d.startswith('.'): \n",
    "        continue\n",
    "    with open('./exercism/python/{}/.solution.json'.format(d))  as file :\n",
    "        j=json.load(file)\n",
    "        idn=j['id']\n",
    "        url = 'https://exercism.io/tracks/python/exercises/{}/solutions/{}'.format(d,idn)\n",
    "        print('- [x] [{}]({})'.format(d,url))"
   ]
  },
  {
   "cell_type": "code",
   "execution_count": 39,
   "metadata": {},
   "outputs": [
    {
     "data": {
      "text/plain": [
       "{'track': 'python',\n",
       " 'exercise': 'yacht',\n",
       " 'id': '0c57c6f7ba8547199df48262ead062af',\n",
       " 'url': 'https://exercism.io/my/solutions/0c57c6f7ba8547199df48262ead062af',\n",
       " 'handle': 'Vaidic',\n",
       " 'is_requester': True,\n",
       " 'auto_approve': False}"
      ]
     },
     "execution_count": 39,
     "metadata": {},
     "output_type": "execute_result"
    }
   ],
   "source": []
  },
  {
   "cell_type": "markdown",
   "metadata": {},
   "source": [
    "## For website"
   ]
  },
  {
   "cell_type": "code",
   "execution_count": 97,
   "metadata": {},
   "outputs": [],
   "source": [
    "template='''+++\n",
    "title = \"{}\"\n",
    "date =  {}\n",
    "draft = false\n",
    "type = \"docs\"\n",
    "toc = true\n",
    "linktitle = \"Problem: {}\"\n",
    "[menu.exercism-python-track]\n",
    "  parent = \"Overview\"\n",
    "  weight = {}\n",
    "+++\n",
    "\n",
    "#{}\n",
    "\n",
    "## Solution\n",
    "> [The solution can also be found at exercism.io]({})\n",
    "\n",
    "```python\n",
    "{}\n",
    "```\n",
    "\n",
    "## Test Cases\n",
    "The test cases for correctness of logic are as belows - \n",
    "\n",
    "```python\n",
    "{}\n",
    "```\n",
    "'''"
   ]
  },
  {
   "cell_type": "code",
   "execution_count": 106,
   "metadata": {},
   "outputs": [
    {
     "name": "stdout",
     "output_type": "stream",
     "text": [
      "Processing ...  acronym\n",
      "Processing ...  armstrong-numbers\n",
      "Processing ...  bank-account\n",
      "Processing ...  dnd-character\n",
      "Processing ...  gigasecond\n",
      "Processing ...  hello-world\n",
      "Processing ...  leap\n",
      "Processing ...  pangram\n",
      "Processing ...  protein-translation\n",
      "Processing ...  rational-numbers\n",
      "Processing ...  reverse-string\n",
      "Processing ...  rna-transcription\n",
      "Processing ...  robot-name\n",
      "Processing ...  sgf-parsing\n",
      "Processing ...  space-age\n",
      "Processing ...  two-fer\n",
      "Processing ...  yacht\n",
      "Sucessfully Completed\n"
     ]
    }
   ],
   "source": [
    "target_dir='C:\\\\Users\\\\vaidicj\\\\Dropbox\\\\gitlab-projects\\\\vaidicjoshi-in-official\\\\content\\\\tutorial\\\\exercism-python-track\\\\'\n",
    "count=1\n",
    "for folder in list(os.walk('./exercism/python/'))[0][1]: \n",
    "    if folder.startswith('.'): \n",
    "        continue\n",
    "    print('Processing ... ', folder)\n",
    "    count+=1\n",
    "    directory='./exercism/python/{}/'.format(folder)\n",
    "    files=list(os.walk(directory))[0][2]\n",
    "    readme_file=directory+list(filter(lambda x: 'readme' in x.lower(),  files))[0]\n",
    "    test_file=directory+list(filter(lambda x: 'test.py' in x.lower(),  files))[0]\n",
    "    sol_file=directory+list(filter(lambda x: '.py' in x.lower() and 'test' not in x.lower(),  files))[0]\n",
    "    mod_time=datetime.datetime.fromtimestamp(os.path.getmtime(directory+'.solution.json')).isoformat()\n",
    "    title=(folder.replace('-',' ').title())\n",
    "    problem=folder\n",
    "    \n",
    "    url=''\n",
    "    problem_stmt=''\n",
    "    solu_stmt=''\n",
    "    test_stmt=''\n",
    "    \n",
    "    with open(directory+'.solution.json'.format(d))  as file :\n",
    "        j=json.load(file)\n",
    "        idn=j['id']\n",
    "        url = 'https://exercism.io/tracks/python/exercises/{}/solutions/{}'.format(d,idn)\n",
    "    \n",
    "    with open(readme_file,encoding='utf8') as f: \n",
    "        while True:\n",
    "            line=f.readline()\n",
    "            if 'Exception messages' in line :\n",
    "                break\n",
    "            problem_stmt+=line\n",
    "    \n",
    "    with open(sol_file,encoding='utf8') as f: \n",
    "        solu_stmt=''.join(f.readlines())\n",
    "    \n",
    "    with open(test_file,encoding='utf8') as f: \n",
    "        test_stmt=''.join(f.readlines())\n",
    "        \n",
    "    with open(target_dir+problem+'.md','w',encoding='utf8') as f:\n",
    "        f.writelines(template.format(title,mod_time, problem,count,problem_stmt,url,solu_stmt,test_stmt))\n",
    "print(\"Sucessfully Completed\")\n",
    "    "
   ]
  }
 ],
 "metadata": {
  "kernelspec": {
   "display_name": "Python 3",
   "language": "python",
   "name": "python3"
  },
  "language_info": {
   "codemirror_mode": {
    "name": "ipython",
    "version": 3
   },
   "file_extension": ".py",
   "mimetype": "text/x-python",
   "name": "python",
   "nbconvert_exporter": "python",
   "pygments_lexer": "ipython3",
   "version": "3.6.5"
  }
 },
 "nbformat": 4,
 "nbformat_minor": 2
}
